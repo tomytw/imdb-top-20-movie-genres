{
 "cells": [
  {
   "cell_type": "markdown",
   "id": "afraid-google",
   "metadata": {},
   "source": [
    "# IMDB Top 20 Genre Word Cloud in the 2010s (2010 - 2019)"
   ]
  },
  {
   "cell_type": "markdown",
   "id": "consecutive-confidentiality",
   "metadata": {},
   "source": [
    "Let's see what's the popular genre in 2010s from the dataset: https://www.kaggle.com/stefanoleone992/imdb-extensive-dataset"
   ]
  },
  {
   "cell_type": "code",
   "execution_count": 1,
   "id": "economic-delaware",
   "metadata": {},
   "outputs": [],
   "source": [
    "import pandas as pd\n",
    "import matplotlib.pyplot as plt\n",
    "\n",
    "from collections import defaultdict, Counter\n",
    "\n",
    "from wordcloud import WordCloud\n",
    "\n",
    "import warnings\n",
    "warnings.filterwarnings('ignore')"
   ]
  },
  {
   "cell_type": "code",
   "execution_count": 2,
   "id": "together-panel",
   "metadata": {},
   "outputs": [],
   "source": [
    "imdb_df = pd.read_csv('IMDb movies.csv')"
   ]
  },
  {
   "cell_type": "code",
   "execution_count": 3,
   "id": "impressed-pharmacology",
   "metadata": {},
   "outputs": [
    {
     "data": {
      "text/html": [
       "<div>\n",
       "<style scoped>\n",
       "    .dataframe tbody tr th:only-of-type {\n",
       "        vertical-align: middle;\n",
       "    }\n",
       "\n",
       "    .dataframe tbody tr th {\n",
       "        vertical-align: top;\n",
       "    }\n",
       "\n",
       "    .dataframe thead th {\n",
       "        text-align: right;\n",
       "    }\n",
       "</style>\n",
       "<table border=\"1\" class=\"dataframe\">\n",
       "  <thead>\n",
       "    <tr style=\"text-align: right;\">\n",
       "      <th></th>\n",
       "      <th>duration</th>\n",
       "      <th>avg_vote</th>\n",
       "      <th>votes</th>\n",
       "      <th>metascore</th>\n",
       "      <th>reviews_from_users</th>\n",
       "      <th>reviews_from_critics</th>\n",
       "    </tr>\n",
       "  </thead>\n",
       "  <tbody>\n",
       "    <tr>\n",
       "      <th>count</th>\n",
       "      <td>85855.000000</td>\n",
       "      <td>85855.000000</td>\n",
       "      <td>8.585500e+04</td>\n",
       "      <td>13305.000000</td>\n",
       "      <td>78258.000000</td>\n",
       "      <td>74058.000000</td>\n",
       "    </tr>\n",
       "    <tr>\n",
       "      <th>mean</th>\n",
       "      <td>100.351418</td>\n",
       "      <td>5.898656</td>\n",
       "      <td>9.493490e+03</td>\n",
       "      <td>55.896881</td>\n",
       "      <td>46.040826</td>\n",
       "      <td>27.479989</td>\n",
       "    </tr>\n",
       "    <tr>\n",
       "      <th>std</th>\n",
       "      <td>22.553848</td>\n",
       "      <td>1.234987</td>\n",
       "      <td>5.357436e+04</td>\n",
       "      <td>17.784874</td>\n",
       "      <td>178.511411</td>\n",
       "      <td>58.339158</td>\n",
       "    </tr>\n",
       "    <tr>\n",
       "      <th>min</th>\n",
       "      <td>41.000000</td>\n",
       "      <td>1.000000</td>\n",
       "      <td>9.900000e+01</td>\n",
       "      <td>1.000000</td>\n",
       "      <td>1.000000</td>\n",
       "      <td>1.000000</td>\n",
       "    </tr>\n",
       "    <tr>\n",
       "      <th>25%</th>\n",
       "      <td>88.000000</td>\n",
       "      <td>5.200000</td>\n",
       "      <td>2.050000e+02</td>\n",
       "      <td>43.000000</td>\n",
       "      <td>4.000000</td>\n",
       "      <td>3.000000</td>\n",
       "    </tr>\n",
       "    <tr>\n",
       "      <th>50%</th>\n",
       "      <td>96.000000</td>\n",
       "      <td>6.100000</td>\n",
       "      <td>4.840000e+02</td>\n",
       "      <td>57.000000</td>\n",
       "      <td>9.000000</td>\n",
       "      <td>8.000000</td>\n",
       "    </tr>\n",
       "    <tr>\n",
       "      <th>75%</th>\n",
       "      <td>108.000000</td>\n",
       "      <td>6.800000</td>\n",
       "      <td>1.766500e+03</td>\n",
       "      <td>69.000000</td>\n",
       "      <td>27.000000</td>\n",
       "      <td>23.000000</td>\n",
       "    </tr>\n",
       "    <tr>\n",
       "      <th>max</th>\n",
       "      <td>808.000000</td>\n",
       "      <td>9.900000</td>\n",
       "      <td>2.278845e+06</td>\n",
       "      <td>100.000000</td>\n",
       "      <td>10472.000000</td>\n",
       "      <td>999.000000</td>\n",
       "    </tr>\n",
       "  </tbody>\n",
       "</table>\n",
       "</div>"
      ],
      "text/plain": [
       "           duration      avg_vote         votes     metascore  \\\n",
       "count  85855.000000  85855.000000  8.585500e+04  13305.000000   \n",
       "mean     100.351418      5.898656  9.493490e+03     55.896881   \n",
       "std       22.553848      1.234987  5.357436e+04     17.784874   \n",
       "min       41.000000      1.000000  9.900000e+01      1.000000   \n",
       "25%       88.000000      5.200000  2.050000e+02     43.000000   \n",
       "50%       96.000000      6.100000  4.840000e+02     57.000000   \n",
       "75%      108.000000      6.800000  1.766500e+03     69.000000   \n",
       "max      808.000000      9.900000  2.278845e+06    100.000000   \n",
       "\n",
       "       reviews_from_users  reviews_from_critics  \n",
       "count        78258.000000          74058.000000  \n",
       "mean            46.040826             27.479989  \n",
       "std            178.511411             58.339158  \n",
       "min              1.000000              1.000000  \n",
       "25%              4.000000              3.000000  \n",
       "50%              9.000000              8.000000  \n",
       "75%             27.000000             23.000000  \n",
       "max          10472.000000            999.000000  "
      ]
     },
     "execution_count": 3,
     "metadata": {},
     "output_type": "execute_result"
    }
   ],
   "source": [
    "imdb_df.describe()"
   ]
  },
  {
   "cell_type": "code",
   "execution_count": 4,
   "id": "urban-mechanics",
   "metadata": {},
   "outputs": [
    {
     "data": {
      "text/plain": [
       "imdb_title_id                0\n",
       "title                        0\n",
       "original_title               0\n",
       "year                         0\n",
       "date_published               0\n",
       "genre                        0\n",
       "duration                     0\n",
       "country                     64\n",
       "language                   833\n",
       "director                    87\n",
       "writer                    1572\n",
       "production_company        4455\n",
       "actors                      69\n",
       "description               2115\n",
       "avg_vote                     0\n",
       "votes                        0\n",
       "budget                   62145\n",
       "usa_gross_income         70529\n",
       "worlwide_gross_income    54839\n",
       "metascore                72550\n",
       "reviews_from_users        7597\n",
       "reviews_from_critics     11797\n",
       "dtype: int64"
      ]
     },
     "execution_count": 4,
     "metadata": {},
     "output_type": "execute_result"
    }
   ],
   "source": [
    "imdb_df.isna().sum()"
   ]
  },
  {
   "cell_type": "code",
   "execution_count": 5,
   "id": "vocational-jonathan",
   "metadata": {},
   "outputs": [
    {
     "data": {
      "text/html": [
       "<div>\n",
       "<style scoped>\n",
       "    .dataframe tbody tr th:only-of-type {\n",
       "        vertical-align: middle;\n",
       "    }\n",
       "\n",
       "    .dataframe tbody tr th {\n",
       "        vertical-align: top;\n",
       "    }\n",
       "\n",
       "    .dataframe thead th {\n",
       "        text-align: right;\n",
       "    }\n",
       "</style>\n",
       "<table border=\"1\" class=\"dataframe\">\n",
       "  <thead>\n",
       "    <tr style=\"text-align: right;\">\n",
       "      <th></th>\n",
       "      <th>imdb_title_id</th>\n",
       "      <th>title</th>\n",
       "      <th>original_title</th>\n",
       "      <th>year</th>\n",
       "      <th>date_published</th>\n",
       "      <th>genre</th>\n",
       "      <th>duration</th>\n",
       "      <th>country</th>\n",
       "      <th>language</th>\n",
       "      <th>director</th>\n",
       "      <th>...</th>\n",
       "      <th>actors</th>\n",
       "      <th>description</th>\n",
       "      <th>avg_vote</th>\n",
       "      <th>votes</th>\n",
       "      <th>budget</th>\n",
       "      <th>usa_gross_income</th>\n",
       "      <th>worlwide_gross_income</th>\n",
       "      <th>metascore</th>\n",
       "      <th>reviews_from_users</th>\n",
       "      <th>reviews_from_critics</th>\n",
       "    </tr>\n",
       "  </thead>\n",
       "  <tbody>\n",
       "    <tr>\n",
       "      <th>0</th>\n",
       "      <td>tt0000009</td>\n",
       "      <td>Miss Jerry</td>\n",
       "      <td>Miss Jerry</td>\n",
       "      <td>1894</td>\n",
       "      <td>1894-10-09</td>\n",
       "      <td>Romance</td>\n",
       "      <td>45</td>\n",
       "      <td>USA</td>\n",
       "      <td>None</td>\n",
       "      <td>Alexander Black</td>\n",
       "      <td>...</td>\n",
       "      <td>Blanche Bayliss, William Courtenay, Chauncey D...</td>\n",
       "      <td>The adventures of a female reporter in the 1890s.</td>\n",
       "      <td>5.9</td>\n",
       "      <td>154</td>\n",
       "      <td>NaN</td>\n",
       "      <td>NaN</td>\n",
       "      <td>NaN</td>\n",
       "      <td>NaN</td>\n",
       "      <td>1.0</td>\n",
       "      <td>2.0</td>\n",
       "    </tr>\n",
       "    <tr>\n",
       "      <th>1</th>\n",
       "      <td>tt0000574</td>\n",
       "      <td>The Story of the Kelly Gang</td>\n",
       "      <td>The Story of the Kelly Gang</td>\n",
       "      <td>1906</td>\n",
       "      <td>1906-12-26</td>\n",
       "      <td>Biography, Crime, Drama</td>\n",
       "      <td>70</td>\n",
       "      <td>Australia</td>\n",
       "      <td>None</td>\n",
       "      <td>Charles Tait</td>\n",
       "      <td>...</td>\n",
       "      <td>Elizabeth Tait, John Tait, Norman Campbell, Be...</td>\n",
       "      <td>True story of notorious Australian outlaw Ned ...</td>\n",
       "      <td>6.1</td>\n",
       "      <td>589</td>\n",
       "      <td>$ 2250</td>\n",
       "      <td>NaN</td>\n",
       "      <td>NaN</td>\n",
       "      <td>NaN</td>\n",
       "      <td>7.0</td>\n",
       "      <td>7.0</td>\n",
       "    </tr>\n",
       "    <tr>\n",
       "      <th>2</th>\n",
       "      <td>tt0001892</td>\n",
       "      <td>Den sorte drøm</td>\n",
       "      <td>Den sorte drøm</td>\n",
       "      <td>1911</td>\n",
       "      <td>1911-08-19</td>\n",
       "      <td>Drama</td>\n",
       "      <td>53</td>\n",
       "      <td>Germany, Denmark</td>\n",
       "      <td>NaN</td>\n",
       "      <td>Urban Gad</td>\n",
       "      <td>...</td>\n",
       "      <td>Asta Nielsen, Valdemar Psilander, Gunnar Helse...</td>\n",
       "      <td>Two men of high rank are both wooing the beaut...</td>\n",
       "      <td>5.8</td>\n",
       "      <td>188</td>\n",
       "      <td>NaN</td>\n",
       "      <td>NaN</td>\n",
       "      <td>NaN</td>\n",
       "      <td>NaN</td>\n",
       "      <td>5.0</td>\n",
       "      <td>2.0</td>\n",
       "    </tr>\n",
       "    <tr>\n",
       "      <th>3</th>\n",
       "      <td>tt0002101</td>\n",
       "      <td>Cleopatra</td>\n",
       "      <td>Cleopatra</td>\n",
       "      <td>1912</td>\n",
       "      <td>1912-11-13</td>\n",
       "      <td>Drama, History</td>\n",
       "      <td>100</td>\n",
       "      <td>USA</td>\n",
       "      <td>English</td>\n",
       "      <td>Charles L. Gaskill</td>\n",
       "      <td>...</td>\n",
       "      <td>Helen Gardner, Pearl Sindelar, Miss Fielding, ...</td>\n",
       "      <td>The fabled queen of Egypt's affair with Roman ...</td>\n",
       "      <td>5.2</td>\n",
       "      <td>446</td>\n",
       "      <td>$ 45000</td>\n",
       "      <td>NaN</td>\n",
       "      <td>NaN</td>\n",
       "      <td>NaN</td>\n",
       "      <td>25.0</td>\n",
       "      <td>3.0</td>\n",
       "    </tr>\n",
       "    <tr>\n",
       "      <th>4</th>\n",
       "      <td>tt0002130</td>\n",
       "      <td>L'Inferno</td>\n",
       "      <td>L'Inferno</td>\n",
       "      <td>1911</td>\n",
       "      <td>1911-03-06</td>\n",
       "      <td>Adventure, Drama, Fantasy</td>\n",
       "      <td>68</td>\n",
       "      <td>Italy</td>\n",
       "      <td>Italian</td>\n",
       "      <td>Francesco Bertolini, Adolfo Padovan</td>\n",
       "      <td>...</td>\n",
       "      <td>Salvatore Papa, Arturo Pirovano, Giuseppe de L...</td>\n",
       "      <td>Loosely adapted from Dante's Divine Comedy and...</td>\n",
       "      <td>7.0</td>\n",
       "      <td>2237</td>\n",
       "      <td>NaN</td>\n",
       "      <td>NaN</td>\n",
       "      <td>NaN</td>\n",
       "      <td>NaN</td>\n",
       "      <td>31.0</td>\n",
       "      <td>14.0</td>\n",
       "    </tr>\n",
       "  </tbody>\n",
       "</table>\n",
       "<p>5 rows × 22 columns</p>\n",
       "</div>"
      ],
      "text/plain": [
       "  imdb_title_id                        title               original_title  \\\n",
       "0     tt0000009                   Miss Jerry                   Miss Jerry   \n",
       "1     tt0000574  The Story of the Kelly Gang  The Story of the Kelly Gang   \n",
       "2     tt0001892               Den sorte drøm               Den sorte drøm   \n",
       "3     tt0002101                    Cleopatra                    Cleopatra   \n",
       "4     tt0002130                    L'Inferno                    L'Inferno   \n",
       "\n",
       "   year date_published                      genre  duration           country  \\\n",
       "0  1894     1894-10-09                    Romance        45               USA   \n",
       "1  1906     1906-12-26    Biography, Crime, Drama        70         Australia   \n",
       "2  1911     1911-08-19                      Drama        53  Germany, Denmark   \n",
       "3  1912     1912-11-13             Drama, History       100               USA   \n",
       "4  1911     1911-03-06  Adventure, Drama, Fantasy        68             Italy   \n",
       "\n",
       "  language                             director  ...  \\\n",
       "0     None                      Alexander Black  ...   \n",
       "1     None                         Charles Tait  ...   \n",
       "2      NaN                            Urban Gad  ...   \n",
       "3  English                   Charles L. Gaskill  ...   \n",
       "4  Italian  Francesco Bertolini, Adolfo Padovan  ...   \n",
       "\n",
       "                                              actors  \\\n",
       "0  Blanche Bayliss, William Courtenay, Chauncey D...   \n",
       "1  Elizabeth Tait, John Tait, Norman Campbell, Be...   \n",
       "2  Asta Nielsen, Valdemar Psilander, Gunnar Helse...   \n",
       "3  Helen Gardner, Pearl Sindelar, Miss Fielding, ...   \n",
       "4  Salvatore Papa, Arturo Pirovano, Giuseppe de L...   \n",
       "\n",
       "                                         description avg_vote votes   budget  \\\n",
       "0  The adventures of a female reporter in the 1890s.      5.9   154      NaN   \n",
       "1  True story of notorious Australian outlaw Ned ...      6.1   589   $ 2250   \n",
       "2  Two men of high rank are both wooing the beaut...      5.8   188      NaN   \n",
       "3  The fabled queen of Egypt's affair with Roman ...      5.2   446  $ 45000   \n",
       "4  Loosely adapted from Dante's Divine Comedy and...      7.0  2237      NaN   \n",
       "\n",
       "   usa_gross_income worlwide_gross_income metascore reviews_from_users  \\\n",
       "0               NaN                   NaN       NaN                1.0   \n",
       "1               NaN                   NaN       NaN                7.0   \n",
       "2               NaN                   NaN       NaN                5.0   \n",
       "3               NaN                   NaN       NaN               25.0   \n",
       "4               NaN                   NaN       NaN               31.0   \n",
       "\n",
       "   reviews_from_critics  \n",
       "0                   2.0  \n",
       "1                   7.0  \n",
       "2                   2.0  \n",
       "3                   3.0  \n",
       "4                  14.0  \n",
       "\n",
       "[5 rows x 22 columns]"
      ]
     },
     "execution_count": 5,
     "metadata": {},
     "output_type": "execute_result"
    }
   ],
   "source": [
    "imdb_df.head()"
   ]
  },
  {
   "cell_type": "code",
   "execution_count": 6,
   "id": "adverse-shade",
   "metadata": {},
   "outputs": [
    {
     "data": {
      "text/plain": [
       "0         154\n",
       "1         589\n",
       "2         188\n",
       "3         446\n",
       "4        2237\n",
       "         ... \n",
       "85850     398\n",
       "85851     724\n",
       "85852     265\n",
       "85853     194\n",
       "85854     102\n",
       "Name: votes, Length: 85855, dtype: int64"
      ]
     },
     "execution_count": 6,
     "metadata": {},
     "output_type": "execute_result"
    }
   ],
   "source": [
    "imdb_df['votes']"
   ]
  },
  {
   "cell_type": "markdown",
   "id": "exempt-dance",
   "metadata": {},
   "source": [
    "### Take only 5 columns"
   ]
  },
  {
   "cell_type": "code",
   "execution_count": 7,
   "id": "surgical-fitness",
   "metadata": {},
   "outputs": [],
   "source": [
    "columns = ['title','year','genre','avg_vote','votes']\n",
    "# imdb_df_filtered = imdb_df[['']]\n",
    "imdb_df_filtered = imdb_df[columns]"
   ]
  },
  {
   "cell_type": "code",
   "execution_count": 8,
   "id": "adverse-trouble",
   "metadata": {},
   "outputs": [
    {
     "data": {
      "text/plain": [
       "title        object\n",
       "year         object\n",
       "genre        object\n",
       "avg_vote    float64\n",
       "votes         int64\n",
       "dtype: object"
      ]
     },
     "execution_count": 8,
     "metadata": {},
     "output_type": "execute_result"
    }
   ],
   "source": [
    "imdb_df_filtered.dtypes"
   ]
  },
  {
   "cell_type": "markdown",
   "id": "endless-assist",
   "metadata": {},
   "source": [
    "## Pre-processing"
   ]
  },
  {
   "cell_type": "markdown",
   "id": "fitting-charger",
   "metadata": {},
   "source": [
    "Convert into numeric type for 'avg_vote','votes', and 'year' columns"
   ]
  },
  {
   "cell_type": "code",
   "execution_count": 9,
   "id": "thorough-kazakhstan",
   "metadata": {},
   "outputs": [],
   "source": [
    "imdb_df_filtered[['avg_vote','votes','year']] = imdb_df_filtered[['avg_vote','votes','year']].apply(pd.to_numeric, errors='coerce')\n",
    "\n",
    "# drop na to remove 1 row that have nonvalid value\n",
    "imdb_df_filtered.dropna(inplace=True)"
   ]
  },
  {
   "cell_type": "code",
   "execution_count": 10,
   "id": "stunning-uncertainty",
   "metadata": {},
   "outputs": [],
   "source": [
    "imdb_df_filtered['year'] = imdb_df_filtered['year'].astype('int64')"
   ]
  },
  {
   "cell_type": "code",
   "execution_count": 11,
   "id": "documentary-control",
   "metadata": {},
   "outputs": [
    {
     "data": {
      "text/plain": [
       "title        object\n",
       "year          int64\n",
       "genre        object\n",
       "avg_vote    float64\n",
       "votes         int64\n",
       "dtype: object"
      ]
     },
     "execution_count": 11,
     "metadata": {},
     "output_type": "execute_result"
    }
   ],
   "source": [
    "imdb_df_filtered.dtypes"
   ]
  },
  {
   "cell_type": "markdown",
   "id": "grave-folks",
   "metadata": {},
   "source": [
    "Take a peek for year 2020 with query function"
   ]
  },
  {
   "cell_type": "code",
   "execution_count": 12,
   "id": "danish-career",
   "metadata": {},
   "outputs": [
    {
     "data": {
      "text/html": [
       "<div>\n",
       "<style scoped>\n",
       "    .dataframe tbody tr th:only-of-type {\n",
       "        vertical-align: middle;\n",
       "    }\n",
       "\n",
       "    .dataframe tbody tr th {\n",
       "        vertical-align: top;\n",
       "    }\n",
       "\n",
       "    .dataframe thead th {\n",
       "        text-align: right;\n",
       "    }\n",
       "</style>\n",
       "<table border=\"1\" class=\"dataframe\">\n",
       "  <thead>\n",
       "    <tr style=\"text-align: right;\">\n",
       "      <th></th>\n",
       "      <th>title</th>\n",
       "      <th>year</th>\n",
       "      <th>genre</th>\n",
       "      <th>avg_vote</th>\n",
       "      <th>votes</th>\n",
       "    </tr>\n",
       "  </thead>\n",
       "  <tbody>\n",
       "    <tr>\n",
       "      <th>51533</th>\n",
       "      <td>Road to Red</td>\n",
       "      <td>2020</td>\n",
       "      <td>Action, Adventure, Horror</td>\n",
       "      <td>4.2</td>\n",
       "      <td>472</td>\n",
       "    </tr>\n",
       "    <tr>\n",
       "      <th>52039</th>\n",
       "      <td>Fantasy Island</td>\n",
       "      <td>2020</td>\n",
       "      <td>Action, Adventure, Fantasy</td>\n",
       "      <td>4.9</td>\n",
       "      <td>26823</td>\n",
       "    </tr>\n",
       "    <tr>\n",
       "      <th>52245</th>\n",
       "      <td>The Rental</td>\n",
       "      <td>2020</td>\n",
       "      <td>Horror, Thriller</td>\n",
       "      <td>5.7</td>\n",
       "      <td>9453</td>\n",
       "    </tr>\n",
       "    <tr>\n",
       "      <th>52271</th>\n",
       "      <td>Seeru</td>\n",
       "      <td>2020</td>\n",
       "      <td>Action, Drama</td>\n",
       "      <td>5.4</td>\n",
       "      <td>224</td>\n",
       "    </tr>\n",
       "    <tr>\n",
       "      <th>52272</th>\n",
       "      <td>Love Aaj Kal</td>\n",
       "      <td>2020</td>\n",
       "      <td>Drama, Romance</td>\n",
       "      <td>5.0</td>\n",
       "      <td>6292</td>\n",
       "    </tr>\n",
       "    <tr>\n",
       "      <th>...</th>\n",
       "      <td>...</td>\n",
       "      <td>...</td>\n",
       "      <td>...</td>\n",
       "      <td>...</td>\n",
       "      <td>...</td>\n",
       "    </tr>\n",
       "    <tr>\n",
       "      <th>85836</th>\n",
       "      <td>Min pappa Marianne</td>\n",
       "      <td>2020</td>\n",
       "      <td>Comedy, Drama</td>\n",
       "      <td>7.2</td>\n",
       "      <td>545</td>\n",
       "    </tr>\n",
       "    <tr>\n",
       "      <th>85839</th>\n",
       "      <td>Coffee &amp; Kareem</td>\n",
       "      <td>2020</td>\n",
       "      <td>Action, Comedy</td>\n",
       "      <td>5.1</td>\n",
       "      <td>10627</td>\n",
       "    </tr>\n",
       "    <tr>\n",
       "      <th>85846</th>\n",
       "      <td>Enemy Lines</td>\n",
       "      <td>2020</td>\n",
       "      <td>War</td>\n",
       "      <td>5.0</td>\n",
       "      <td>764</td>\n",
       "    </tr>\n",
       "    <tr>\n",
       "      <th>85850</th>\n",
       "      <td>Le lion</td>\n",
       "      <td>2020</td>\n",
       "      <td>Comedy</td>\n",
       "      <td>5.3</td>\n",
       "      <td>398</td>\n",
       "    </tr>\n",
       "    <tr>\n",
       "      <th>85851</th>\n",
       "      <td>De Beentjes van Sint-Hildegard</td>\n",
       "      <td>2020</td>\n",
       "      <td>Comedy, Drama</td>\n",
       "      <td>7.7</td>\n",
       "      <td>724</td>\n",
       "    </tr>\n",
       "  </tbody>\n",
       "</table>\n",
       "<p>789 rows × 5 columns</p>\n",
       "</div>"
      ],
      "text/plain": [
       "                                title  year                       genre  \\\n",
       "51533                     Road to Red  2020   Action, Adventure, Horror   \n",
       "52039                  Fantasy Island  2020  Action, Adventure, Fantasy   \n",
       "52245                      The Rental  2020            Horror, Thriller   \n",
       "52271                           Seeru  2020               Action, Drama   \n",
       "52272                    Love Aaj Kal  2020              Drama, Romance   \n",
       "...                               ...   ...                         ...   \n",
       "85836              Min pappa Marianne  2020               Comedy, Drama   \n",
       "85839                 Coffee & Kareem  2020              Action, Comedy   \n",
       "85846                     Enemy Lines  2020                         War   \n",
       "85850                         Le lion  2020                      Comedy   \n",
       "85851  De Beentjes van Sint-Hildegard  2020               Comedy, Drama   \n",
       "\n",
       "       avg_vote  votes  \n",
       "51533       4.2    472  \n",
       "52039       4.9  26823  \n",
       "52245       5.7   9453  \n",
       "52271       5.4    224  \n",
       "52272       5.0   6292  \n",
       "...         ...    ...  \n",
       "85836       7.2    545  \n",
       "85839       5.1  10627  \n",
       "85846       5.0    764  \n",
       "85850       5.3    398  \n",
       "85851       7.7    724  \n",
       "\n",
       "[789 rows x 5 columns]"
      ]
     },
     "execution_count": 12,
     "metadata": {},
     "output_type": "execute_result"
    }
   ],
   "source": [
    "imdb_df_filtered.query('year == 2020')"
   ]
  },
  {
   "cell_type": "code",
   "execution_count": 13,
   "id": "hungarian-ordinary",
   "metadata": {},
   "outputs": [],
   "source": [
    "imdb_df_filtered_backup = imdb_df_filtered.copy()"
   ]
  },
  {
   "cell_type": "code",
   "execution_count": 14,
   "id": "complex-crack",
   "metadata": {},
   "outputs": [],
   "source": [
    "# imdb_df_filtered = imdb_df_filtered_backup.copy()"
   ]
  },
  {
   "cell_type": "code",
   "execution_count": 15,
   "id": "general-somerset",
   "metadata": {},
   "outputs": [],
   "source": [
    "imdb_df_filtered_all = imdb_df_filtered.copy()"
   ]
  },
  {
   "cell_type": "markdown",
   "id": "known-chicago",
   "metadata": {},
   "source": [
    "## Transform the genre column value into a list of genres"
   ]
  },
  {
   "cell_type": "code",
   "execution_count": 16,
   "id": "remarkable-pearl",
   "metadata": {},
   "outputs": [],
   "source": [
    "imdb_df_filtered['genre'] = imdb_df_filtered['genre'].apply(lambda x: list(map(str.lstrip,x.split(','))))\n",
    "imdb_df_filtered_all['genre'] = imdb_df_filtered_all['genre'].apply(lambda x: list(map(str.lstrip,x.split(','))))"
   ]
  },
  {
   "cell_type": "code",
   "execution_count": 20,
   "id": "preceding-england",
   "metadata": {},
   "outputs": [
    {
     "data": {
      "text/plain": [
       "0                          [Romance]\n",
       "1          [Biography, Crime, Drama]\n",
       "2                            [Drama]\n",
       "3                   [Drama, History]\n",
       "4        [Adventure, Drama, Fantasy]\n",
       "                    ...             \n",
       "85850                       [Comedy]\n",
       "85851                [Comedy, Drama]\n",
       "85852                        [Drama]\n",
       "85853                [Drama, Family]\n",
       "85854                        [Drama]\n",
       "Name: genre, Length: 85854, dtype: object"
      ]
     },
     "execution_count": 20,
     "metadata": {},
     "output_type": "execute_result"
    }
   ],
   "source": [
    "imdb_df_filtered['genre']"
   ]
  },
  {
   "cell_type": "code",
   "execution_count": 18,
   "id": "royal-candy",
   "metadata": {},
   "outputs": [
    {
     "data": {
      "text/plain": [
       "count      85854.00\n",
       "mean        9493.32\n",
       "std        53574.65\n",
       "min           99.00\n",
       "25%          205.00\n",
       "50%          484.00\n",
       "75%         1766.00\n",
       "max      2278845.00\n",
       "Name: votes, dtype: object"
      ]
     },
     "execution_count": 18,
     "metadata": {},
     "output_type": "execute_result"
    }
   ],
   "source": [
    "imdb_df_filtered['votes'].describe().apply(\"{0:.2f}\".format)"
   ]
  },
  {
   "cell_type": "markdown",
   "id": "romance-layer",
   "metadata": {},
   "source": [
    "Filter based on upper quartile conditions for 'decent' movies"
   ]
  },
  {
   "cell_type": "code",
   "execution_count": 21,
   "id": "official-croatia",
   "metadata": {},
   "outputs": [],
   "source": [
    "imdb_df_filtered = imdb_df_filtered.query('avg_vote >= 6.8 and votes >= 1766')"
   ]
  },
  {
   "cell_type": "code",
   "execution_count": null,
   "id": "union-congress",
   "metadata": {},
   "outputs": [],
   "source": []
  },
  {
   "cell_type": "code",
   "execution_count": null,
   "id": "least-language",
   "metadata": {},
   "outputs": [],
   "source": []
  },
  {
   "cell_type": "code",
   "execution_count": 22,
   "id": "quantitative-native",
   "metadata": {},
   "outputs": [],
   "source": [
    "base_year = 2010\n",
    "final_year = base_year + 10"
   ]
  },
  {
   "cell_type": "code",
   "execution_count": 23,
   "id": "interesting-registrar",
   "metadata": {},
   "outputs": [],
   "source": [
    "genreCounter = defaultdict(int)\n",
    "genreCounterAll = defaultdict(int)"
   ]
  },
  {
   "cell_type": "code",
   "execution_count": 24,
   "id": "unnecessary-armenia",
   "metadata": {},
   "outputs": [],
   "source": [
    "def countGenres(genreCounter,x):\n",
    "    for genre in x:\n",
    "        genreCounter[genre] += 1"
   ]
  },
  {
   "cell_type": "code",
   "execution_count": 25,
   "id": "alpha-bruce",
   "metadata": {},
   "outputs": [
    {
     "data": {
      "text/plain": [
       "15675    None\n",
       "41749    None\n",
       "43351    None\n",
       "43822    None\n",
       "44619    None\n",
       "         ... \n",
       "85757    None\n",
       "85761    None\n",
       "85780    None\n",
       "85803    None\n",
       "85843    None\n",
       "Name: genre, Length: 2398, dtype: object"
      ]
     },
     "execution_count": 25,
     "metadata": {},
     "output_type": "execute_result"
    }
   ],
   "source": [
    "imdb_df_filtered.query('year >= {base} and year < {thresh}'.format(base = base_year, thresh = final_year))['genre'].apply(lambda x : countGenres(genreCounter,x))"
   ]
  },
  {
   "cell_type": "code",
   "execution_count": 26,
   "id": "alternative-louisiana",
   "metadata": {},
   "outputs": [
    {
     "data": {
      "text/plain": [
       "[('Drama', 1813),\n",
       " ('Comedy', 683),\n",
       " ('Action', 536),\n",
       " ('Romance', 395),\n",
       " ('Crime', 390),\n",
       " ('Thriller', 335),\n",
       " ('Adventure', 295),\n",
       " ('Biography', 294),\n",
       " ('Animation', 163),\n",
       " ('Mystery', 159)]"
      ]
     },
     "execution_count": 26,
     "metadata": {},
     "output_type": "execute_result"
    }
   ],
   "source": [
    "Counter(genreCounter).most_common(10)"
   ]
  },
  {
   "cell_type": "code",
   "execution_count": null,
   "id": "chubby-netscape",
   "metadata": {},
   "outputs": [],
   "source": []
  },
  {
   "cell_type": "code",
   "execution_count": 27,
   "id": "rental-morning",
   "metadata": {},
   "outputs": [
    {
     "data": {
      "text/plain": [
       "15675    None\n",
       "25479    None\n",
       "32465    None\n",
       "33030    None\n",
       "33800    None\n",
       "         ... \n",
       "85848    None\n",
       "85849    None\n",
       "85852    None\n",
       "85853    None\n",
       "85854    None\n",
       "Name: genre, Length: 28537, dtype: object"
      ]
     },
     "execution_count": 27,
     "metadata": {},
     "output_type": "execute_result"
    }
   ],
   "source": [
    "imdb_df_filtered_all.query('year >= {base} and year < {thresh}'.format(base = base_year, thresh = final_year))['genre'].apply(lambda x : countGenres(genreCounterAll,x))"
   ]
  },
  {
   "cell_type": "code",
   "execution_count": 28,
   "id": "another-handy",
   "metadata": {},
   "outputs": [
    {
     "data": {
      "text/plain": [
       "[('Drama', 15513),\n",
       " ('Comedy', 9371),\n",
       " ('Thriller', 4973),\n",
       " ('Action', 4424),\n",
       " ('Horror', 4103),\n",
       " ('Romance', 3882),\n",
       " ('Crime', 2869),\n",
       " ('Adventure', 2107),\n",
       " ('Mystery', 1876),\n",
       " ('Family', 1437)]"
      ]
     },
     "execution_count": 28,
     "metadata": {},
     "output_type": "execute_result"
    }
   ],
   "source": [
    "Counter(genreCounterAll).most_common(10)"
   ]
  },
  {
   "cell_type": "markdown",
   "id": "romantic-genre",
   "metadata": {},
   "source": [
    "The frequency of each genre from the filtered dataset is divided by the total frequency of that genre from the unfiltered dataset. \n",
    "It simply means, the probability of a better rated movie is proportional to the size of the genre in the word cloud."
   ]
  },
  {
   "cell_type": "code",
   "execution_count": 29,
   "id": "intermediate-fundamental",
   "metadata": {},
   "outputs": [],
   "source": [
    "for genre in genreCounter:\n",
    "    genreCounter[genre] /= genreCounterAll[genre]"
   ]
  },
  {
   "cell_type": "code",
   "execution_count": 32,
   "id": "chicken-employment",
   "metadata": {},
   "outputs": [
    {
     "data": {
      "text/plain": [
       "defaultdict(int,\n",
       "            {'Drama': 0.11686972216850383,\n",
       "             'Action': 0.12115732368896925,\n",
       "             'Crime': 0.13593586615545486,\n",
       "             'Comedy': 0.07288443069042791,\n",
       "             'Fantasy': 0.08006672226855713,\n",
       "             'Adventure': 0.1400094921689606,\n",
       "             'Sci-Fi': 0.06461780929866036,\n",
       "             'Mystery': 0.0847547974413646,\n",
       "             'Animation': 0.16752312435765673,\n",
       "             'Biography': 0.3072100313479624,\n",
       "             'History': 0.17300131061598953,\n",
       "             'War': 0.17215189873417722,\n",
       "             'Romance': 0.10175167439464193,\n",
       "             'Sport': 0.15508021390374332,\n",
       "             'Thriller': 0.06736376432736779,\n",
       "             'Family': 0.06402226861517049,\n",
       "             'Horror': 0.02096027297099683,\n",
       "             'Music': 0.15192743764172337,\n",
       "             'Western': 0.07407407407407407,\n",
       "             'Musical': 0.07692307692307693})"
      ]
     },
     "execution_count": 32,
     "metadata": {},
     "output_type": "execute_result"
    }
   ],
   "source": [
    "genreCounter"
   ]
  },
  {
   "cell_type": "markdown",
   "id": "smoking-vermont",
   "metadata": {},
   "source": [
    "Most common genre"
   ]
  },
  {
   "cell_type": "code",
   "execution_count": 33,
   "id": "decreased-boston",
   "metadata": {},
   "outputs": [
    {
     "data": {
      "text/plain": [
       "[('Biography', 0.3072100313479624),\n",
       " ('History', 0.17300131061598953),\n",
       " ('War', 0.17215189873417722),\n",
       " ('Animation', 0.16752312435765673),\n",
       " ('Sport', 0.15508021390374332),\n",
       " ('Music', 0.15192743764172337),\n",
       " ('Adventure', 0.1400094921689606),\n",
       " ('Crime', 0.13593586615545486),\n",
       " ('Action', 0.12115732368896925),\n",
       " ('Drama', 0.11686972216850383)]"
      ]
     },
     "execution_count": 33,
     "metadata": {},
     "output_type": "execute_result"
    }
   ],
   "source": [
    "Counter(genreCounter).most_common(10)"
   ]
  },
  {
   "cell_type": "code",
   "execution_count": 34,
   "id": "designed-concord",
   "metadata": {},
   "outputs": [
    {
     "data": {
      "image/png": "[encoded data removed]",
      "text/plain": [
       "<Figure size 432x288 with 1 Axes>"
      ]
     },
     "metadata": {},
     "output_type": "display_data"
    }
   ],
   "source": [
    "# Create and generate a word cloud image:\n",
    "wordcloud = WordCloud(max_font_size=100, max_words=20, background_color=\"white\", random_state=50).generate_from_frequencies(genreCounter)\n",
    "\n",
    "# Display the generated image:\n",
    "fig = plt.figure()\n",
    "fig.patch.set_facecolor('xkcd:white')\n",
    "\n",
    "plt.imshow(wordcloud, interpolation='bilinear')\n",
    "plt.suptitle('Top 20 Movie Genres in the 2010s', size=14, y=0.95)\n",
    "\n",
    "plt.axis(\"off\")\n",
    "plt.savefig('movie-wordcloud.png', dpi=200, bbox_inches = 'tight', pad_inches = 0.2)\n",
    "plt.show()"
   ]
  }
 ],
 "metadata": {
  "kernelspec": {
   "display_name": "Python 3",
   "language": "python",
   "name": "python3"
  },
  "language_info": {
   "codemirror_mode": {
    "name": "ipython",
    "version": 3
   },
   "file_extension": ".py",
   "mimetype": "text/x-python",
   "name": "python",
   "nbconvert_exporter": "python",
   "pygments_lexer": "ipython3",
   "version": "3.7.10"
  }
 },
 "nbformat": 4,
 "nbformat_minor": 5
}
